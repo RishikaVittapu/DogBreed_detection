{
 "cells": [
  {
   "cell_type": "code",
   "execution_count": null,
   "metadata": {},
   "outputs": [],
   "source": [
    "\n"
   ]
  },
  {
   "cell_type": "code",
   "execution_count": 4,
   "metadata": {},
   "outputs": [
    {
     "name": "stdout",
     "output_type": "stream",
     "text": [
      "Found 8456 images belonging to 70 classes.\n",
      "Found 8456 images belonging to 70 classes.\n",
      "Epoch 1/10\n",
      "\u001b[1m528/528\u001b[0m \u001b[32m━━━━━━━━━━━━━━━━━━━━\u001b[0m\u001b[37m\u001b[0m \u001b[1m391s\u001b[0m 727ms/step - accuracy: 0.7574 - loss: 1.0579 - val_accuracy: 0.8795 - val_loss: 0.3993\n",
      "Epoch 2/10\n",
      "\u001b[1m528/528\u001b[0m \u001b[32m━━━━━━━━━━━━━━━━━━━━\u001b[0m\u001b[37m\u001b[0m \u001b[1m167s\u001b[0m 317ms/step - accuracy: 0.8125 - loss: 0.5525 - val_accuracy: 0.8820 - val_loss: 0.3946\n",
      "Epoch 3/10\n",
      "\u001b[1m528/528\u001b[0m \u001b[32m━━━━━━━━━━━━━━━━━━━━\u001b[0m\u001b[37m\u001b[0m \u001b[1m390s\u001b[0m 739ms/step - accuracy: 0.8856 - loss: 0.3668 - val_accuracy: 0.9167 - val_loss: 0.2643\n",
      "Epoch 4/10\n",
      "\u001b[1m528/528\u001b[0m \u001b[32m━━━━━━━━━━━━━━━━━━━━\u001b[0m\u001b[37m\u001b[0m \u001b[1m183s\u001b[0m 346ms/step - accuracy: 0.9375 - loss: 0.1361 - val_accuracy: 0.9176 - val_loss: 0.2597\n",
      "Epoch 5/10\n",
      "\u001b[1m528/528\u001b[0m \u001b[32m━━━━━━━━━━━━━━━━━━━━\u001b[0m\u001b[37m\u001b[0m \u001b[1m399s\u001b[0m 755ms/step - accuracy: 0.9065 - loss: 0.2993 - val_accuracy: 0.9287 - val_loss: 0.2042\n",
      "Epoch 6/10\n",
      "\u001b[1m528/528\u001b[0m \u001b[32m━━━━━━━━━━━━━━━━━━━━\u001b[0m\u001b[37m\u001b[0m \u001b[1m186s\u001b[0m 353ms/step - accuracy: 0.7500 - loss: 0.2699 - val_accuracy: 0.9289 - val_loss: 0.2054\n",
      "Epoch 7/10\n",
      "\u001b[1m528/528\u001b[0m \u001b[32m━━━━━━━━━━━━━━━━━━━━\u001b[0m\u001b[37m\u001b[0m \u001b[1m407s\u001b[0m 770ms/step - accuracy: 0.9089 - loss: 0.2661 - val_accuracy: 0.9291 - val_loss: 0.2093\n",
      "Epoch 8/10\n",
      "\u001b[1m528/528\u001b[0m \u001b[32m━━━━━━━━━━━━━━━━━━━━\u001b[0m\u001b[37m\u001b[0m \u001b[1m181s\u001b[0m 343ms/step - accuracy: 0.8750 - loss: 0.2058 - val_accuracy: 0.9298 - val_loss: 0.2096\n",
      "Epoch 9/10\n",
      "\u001b[1m528/528\u001b[0m \u001b[32m━━━━━━━━━━━━━━━━━━━━\u001b[0m\u001b[37m\u001b[0m \u001b[1m403s\u001b[0m 764ms/step - accuracy: 0.9244 - loss: 0.2398 - val_accuracy: 0.9336 - val_loss: 0.2029\n",
      "Epoch 10/10\n",
      "\u001b[1m528/528\u001b[0m \u001b[32m━━━━━━━━━━━━━━━━━━━━\u001b[0m\u001b[37m\u001b[0m \u001b[1m183s\u001b[0m 347ms/step - accuracy: 0.6875 - loss: 0.7955 - val_accuracy: 0.9345 - val_loss: 0.1987\n"
     ]
    }
   ],
   "source": [
    "import matplotlib.pyplot as plt\n",
    "import tensorflow as tf\n",
    "from tensorflow.keras.applications.inception_v3 import InceptionV3\n",
    "from tensorflow.keras.preprocessing.image import ImageDataGenerator\n",
    "from tensorflow.keras.layers import Dense, GlobalAveragePooling2D\n",
    "from tensorflow.keras.models import Model\n",
    "from tensorflow.keras.optimizers import Adam\n",
    "\n",
    "train_dir = r\"C:\\Users\\rishi\\Downloads\\Dog_Breed_detection-main\\Dog_Breed_detection-main\\dog\"\n",
    "test_dir = r\"C:\\Users\\rishi\\Downloads\\Dog_Breed_detection-main\\Dog_Breed_detection-main\\dog\"\n",
    "num_classes = 70\n",
    "image_size = (224, 224 )  # Corrected variable name\n",
    "batch_size = 16\n",
    "learning_rate = 0.001\n",
    "epochs = 10\n",
    "\n",
    "training_data = ImageDataGenerator(\n",
    "    rescale=1./255,\n",
    "    shear_range=0.2,\n",
    "    zoom_range=0.2,\n",
    "    horizontal_flip=True\n",
    ")\n",
    "\n",
    "validation_data = ImageDataGenerator(rescale=1./255)\n",
    "\n",
    "base_model = InceptionV3(weights=\"imagenet\", include_top=False, input_shape=(image_size[0], image_size[1], 3))\n",
    "\n",
    "x = base_model.output\n",
    "x = GlobalAveragePooling2D()(x)\n",
    "x = Dense(1024, activation='relu')(x)\n",
    "predictions = Dense(num_classes, activation=\"softmax\")(x)\n",
    "\n",
    "model = Model(inputs=base_model.input, outputs=predictions)\n",
    "\n",
    "for layer in base_model.layers:\n",
    "    layer.trainable = False\n",
    "\n",
    "model.compile(optimizer=Adam(learning_rate=learning_rate), loss='categorical_crossentropy', metrics=[\"accuracy\"])\n",
    "\n",
    "train_generator = training_data.flow_from_directory(\n",
    "    train_dir,\n",
    "    target_size=image_size,  # Corrected variable name\n",
    "    batch_size=batch_size,\n",
    "    class_mode=\"categorical\"\n",
    ")\n",
    "\n",
    "valid_generator = validation_data.flow_from_directory(\n",
    "    test_dir,\n",
    "    target_size=image_size,  # Corrected variable name\n",
    "    batch_size=batch_size,\n",
    "    class_mode=\"categorical\"\n",
    ")\n",
    "\n",
    "# Calculate steps_per_epoch and validation_steps\n",
    "steps_per_epoch = train_generator.samples // batch_size\n",
    "validation_steps = valid_generator.samples // batch_size\n",
    "\n",
    "history = model.fit(\n",
    "    train_generator,\n",
    "    steps_per_epoch=steps_per_epoch,\n",
    "    epochs=epochs,\n",
    "    validation_data=valid_generator,\n",
    "    validation_steps=validation_steps\n",
    ")\n",
    "\n",
    "model.save(\"dogclassification.keras\")\n",
    "\n",
    "\n"
   ]
  },
  {
   "cell_type": "code",
   "execution_count": null,
   "metadata": {},
   "outputs": [],
   "source": []
  }
 ],
 "metadata": {
  "kernelspec": {
   "display_name": "Python 3",
   "language": "python",
   "name": "python3"
  },
  "language_info": {
   "codemirror_mode": {
    "name": "ipython",
    "version": 3
   },
   "file_extension": ".py",
   "mimetype": "text/x-python",
   "name": "python",
   "nbconvert_exporter": "python",
   "pygments_lexer": "ipython3",
   "version": "3.12.7"
  }
 },
 "nbformat": 4,
 "nbformat_minor": 2
}
