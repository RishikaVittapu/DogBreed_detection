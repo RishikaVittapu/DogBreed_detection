{
 "cells": [
  {
   "cell_type": "code",
   "execution_count": null,
   "metadata": {},
   "outputs": [],
   "source": [
    "\n"
   ]
  },
  {
   "cell_type": "code",
   "execution_count": null,
   "metadata": {},
   "outputs": [
    {
     "name": "stdout",
     "output_type": "stream",
     "text": [
      "Found 8456 images belonging to 70 classes.\n",
      "Found 8456 images belonging to 70 classes.\n",
      "Epoch 1/10\n",
      "\u001b[1m528/528\u001b[0m \u001b[32m━━━━━━━━━━━━━━━━━━━━\u001b[0m\u001b[37m\u001b[0m \u001b[1m408s\u001b[0m 762ms/step - accuracy: 0.7616 - loss: 1.0453 - val_accuracy: 0.8890 - val_loss: 0.3516\n",
      "Epoch 2/10\n",
      "\u001b[1m  1/528\u001b[0m \u001b[37m━━━━━━━━━━━━━━━━━━━━\u001b[0m \u001b[1m3:12\u001b[0m 365ms/step - accuracy: 0.8750 - loss: 0.1903"
     ]
    },
    {
     "name": "stderr",
     "output_type": "stream",
     "text": [
      "c:\\Users\\rishi\\anaconda3\\anaconda\\Lib\\site-packages\\keras\\src\\trainers\\epoch_iterator.py:107: UserWarning: Your input ran out of data; interrupting training. Make sure that your dataset or generator can generate at least `steps_per_epoch * epochs` batches. You may need to use the `.repeat()` function when building your dataset.\n",
      "  self._interrupted_warning()\n"
     ]
    },
    {
     "name": "stdout",
     "output_type": "stream",
     "text": [
      "\u001b[1m528/528\u001b[0m \u001b[32m━━━━━━━━━━━━━━━━━━━━\u001b[0m\u001b[37m\u001b[0m \u001b[1m183s\u001b[0m 346ms/step - accuracy: 0.8750 - loss: 0.1903 - val_accuracy: 0.8873 - val_loss: 0.3574\n",
      "Epoch 3/10\n",
      "\u001b[1m528/528\u001b[0m \u001b[32m━━━━━━━━━━━━━━━━━━━━\u001b[0m\u001b[37m\u001b[0m \u001b[1m632s\u001b[0m 1s/step - accuracy: 0.8894 - loss: 0.3544 - val_accuracy: 0.9144 - val_loss: 0.2521\n",
      "Epoch 4/10\n",
      "\u001b[1m528/528\u001b[0m \u001b[32m━━━━━━━━━━━━━━━━━━━━\u001b[0m\u001b[37m\u001b[0m \u001b[1m167s\u001b[0m 316ms/step - accuracy: 1.0000 - loss: 0.1091 - val_accuracy: 0.9156 - val_loss: 0.2516\n",
      "Epoch 5/10\n",
      "\u001b[1m528/528\u001b[0m \u001b[32m━━━━━━━━━━━━━━━━━━━━\u001b[0m\u001b[37m\u001b[0m \u001b[1m1783s\u001b[0m 3s/step - accuracy: 0.8997 - loss: 0.3103 - val_accuracy: 0.9135 - val_loss: 0.2701\n",
      "Epoch 6/10\n",
      "\u001b[1m528/528\u001b[0m \u001b[32m━━━━━━━━━━━━━━━━━━━━\u001b[0m\u001b[37m\u001b[0m \u001b[1m361s\u001b[0m 683ms/step - accuracy: 0.9375 - loss: 0.2706 - val_accuracy: 0.9070 - val_loss: 0.2868\n",
      "Epoch 7/10\n",
      "\u001b[1m528/528\u001b[0m \u001b[32m━━━━━━━━━━━━━━━━━━━━\u001b[0m\u001b[37m\u001b[0m \u001b[1m1049s\u001b[0m 2s/step - accuracy: 0.8977 - loss: 0.3009 - val_accuracy: 0.9299 - val_loss: 0.2010\n",
      "Epoch 8/10\n",
      "\u001b[1m528/528\u001b[0m \u001b[32m━━━━━━━━━━━━━━━━━━━━\u001b[0m\u001b[37m\u001b[0m \u001b[1m581s\u001b[0m 1s/step - accuracy: 1.0000 - loss: 0.0227 - val_accuracy: 0.9316 - val_loss: 0.1973\n",
      "Epoch 9/10\n",
      "\u001b[1m528/528\u001b[0m \u001b[32m━━━━━━━━━━━━━━━━━━━━\u001b[0m\u001b[37m\u001b[0m \u001b[1m2167s\u001b[0m 4s/step - accuracy: 0.9212 - loss: 0.2476 - val_accuracy: 0.9386 - val_loss: 0.1829\n",
      "Epoch 10/10\n",
      "\u001b[1m528/528\u001b[0m \u001b[32m━━━━━━━━━━━━━━━━━━━━\u001b[0m\u001b[37m\u001b[0m \u001b[1m174s\u001b[0m 330ms/step - accuracy: 0.8125 - loss: 0.7409 - val_accuracy: 0.9375 - val_loss: 0.1842\n"
     ]
    },
    {
     "name": "stderr",
     "output_type": "stream",
     "text": [
      "WARNING:absl:You are saving your model as an HDF5 file via `model.save()` or `keras.saving.save_model(model)`. This file format is considered legacy. We recommend using instead the native Keras format, e.g. `model.save('my_model.keras')` or `keras.saving.save_model(model, 'my_model.keras')`. \n"
     ]
    }
   ],
   "source": [
    "import matplotlib.pyplot as plt\n",
    "import tensorflow as tf\n",
    "from tensorflow.keras.applications.inception_v3 import InceptionV3\n",
    "from tensorflow.keras.preprocessing.image import ImageDataGenerator\n",
    "from tensorflow.keras.layers import Dense, GlobalAveragePooling2D\n",
    "from tensorflow.keras.models import Model\n",
    "from tensorflow.keras.optimizers import Adam\n",
    "\n",
    "train_dir = r\"C:\\Users\\rishi\\Downloads\\Dog_Breed_detection-main\\Dog_Breed_detection-main\\dog\"\n",
    "test_dir = r\"C:\\Users\\rishi\\Downloads\\Dog_Breed_detection-main\\Dog_Breed_detection-main\\dog\"\n",
    "num_classes = 70\n",
    "image_size = (224, 224 )  # Corrected variable name\n",
    "batch_size = 16\n",
    "learning_rate = 0.001\n",
    "epochs = 10\n",
    "\n",
    "training_data = ImageDataGenerator(\n",
    "    rescale=1./255,\n",
    "    shear_range=0.2,\n",
    "    zoom_range=0.2,\n",
    "    horizontal_flip=True\n",
    ")\n",
    "\n",
    "validation_data = ImageDataGenerator(rescale=1./255)\n",
    "\n",
    "base_model = InceptionV3(weights=\"imagenet\", include_top=False, input_shape=(image_size[0], image_size[1], 3))\n",
    "\n",
    "x = base_model.output\n",
    "x = GlobalAveragePooling2D()(x)\n",
    "x = Dense(1024, activation='relu')(x)\n",
    "predictions = Dense(num_classes, activation=\"softmax\")(x)\n",
    "\n",
    "model = Model(inputs=base_model.input, outputs=predictions)\n",
    "\n",
    "for layer in base_model.layers:\n",
    "    layer.trainable = False\n",
    "\n",
    "model.compile(optimizer=Adam(learning_rate=learning_rate), loss='categorical_crossentropy', metrics=[\"accuracy\"])\n",
    "\n",
    "train_generator = training_data.flow_from_directory(\n",
    "    train_dir,\n",
    "    target_size=image_size,  # Corrected variable name\n",
    "    batch_size=batch_size,\n",
    "    class_mode=\"categorical\"\n",
    ")\n",
    "\n",
    "valid_generator = validation_data.flow_from_directory(\n",
    "    test_dir,\n",
    "    target_size=image_size,  # Corrected variable name\n",
    "    batch_size=batch_size,\n",
    "    class_mode=\"categorical\"\n",
    ")\n",
    "\n",
    "# Calculate steps_per_epoch and validation_steps\n",
    "steps_per_epoch = train_generator.samples // batch_size\n",
    "validation_steps = valid_generator.samples // batch_size\n",
    "\n",
    "history = model.fit(\n",
    "    train_generator,\n",
    "    steps_per_epoch=steps_per_epoch,\n",
    "    epochs=epochs,\n",
    "    validation_data=valid_generator,\n",
    "    validation_steps=validation_steps\n",
    ")\n",
    "\n",
    "model.save(\"dogclassification.keras\")\n",
    "\n",
    "\n"
   ]
  },
  {
   "cell_type": "code",
   "execution_count": null,
   "metadata": {},
   "outputs": [],
   "source": []
  }
 ],
 "metadata": {
  "kernelspec": {
   "display_name": "Python 3",
   "language": "python",
   "name": "python3"
  },
  "language_info": {
   "codemirror_mode": {
    "name": "ipython",
    "version": 3
   },
   "file_extension": ".py",
   "mimetype": "text/x-python",
   "name": "python",
   "nbconvert_exporter": "python",
   "pygments_lexer": "ipython3",
   "version": "3.12.7"
  }
 },
 "nbformat": 4,
 "nbformat_minor": 2
}
